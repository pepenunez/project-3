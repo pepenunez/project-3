{
 "cells": [
  {
   "cell_type": "markdown",
   "metadata": {},
   "source": [
    "# Data Cleaning"
   ]
  },
  {
   "cell_type": "code",
   "execution_count": 178,
   "metadata": {},
   "outputs": [],
   "source": [
    "import pandas as pd\n",
    "\n",
    "# Brisbane data for 2017 to 2019\n",
    "bri_19 = pd.DataFrame(pd.read_csv(\"../project-3/data/brisbane/brisbane-mk4_2019-01-01t00_00-2019-06-30t23_30.csv\"))\n",
    "bri_18 = pd.DataFrame(pd.read_csv(\"../project-3/data/brisbane/brisbane-mk4_2018-01-01t00_00-2018-12-31t23_00.csv\"))\n",
    "bri_17 = pd.DataFrame(pd.read_csv(\"../project-3/data/brisbane/brisbane-mk42017-01-01t0000-2017-12-31t2330.csv\"))\n",
    "\n",
    "# Goald Coast data for 2017 to 2019\n",
    "gol_19 = pd.DataFrame(pd.read_csv(\"../project-3/data/gold-coast/gold-coast_verifieddata.csv\"))\n",
    "gol_18 = pd.DataFrame(pd.read_csv(\"../project-3/data/gold-coast/gold-coast_2018-01-01t00_00-2018-12-31t23_30.csv\"))\n",
    "gol_17 = pd.DataFrame(pd.read_csv(\"../project-3/data/gold-coast/gold-coast_2017-01-01t00_00-2017-12-31t23_30.csv\"))\n",
    "\n",
    "# Townville data for 2017 to 2019\n",
    "tow_19 = pd.DataFrame(pd.read_csv(\"../project-3/data/townsville/townsville_verifieddata.csv\"))\n",
    "tow_18 = pd.DataFrame(pd.read_csv(\"../project-3/data/townsville/townsville_2018-01-01t00_00-2018-12-31t23_30.csv\"))\n",
    "tow_17 = pd.DataFrame(pd.read_csv(\"../project-3/data/townsville/townsville_2017-01-01t00_00-2017-12-31t23_30.csv\"))\n",
    "\n",
    "# List of the files on use\n",
    "file_list = [[bri_19, bri_18, bri_17], [gol_19, gol_18, gol_17], [tow_19, tow_18, tow_17]]"
   ]
  },
  {
   "cell_type": "code",
   "execution_count": 190,
   "metadata": {},
   "outputs": [],
   "source": [
    "# Date type\n",
    "bri_19[\"Date/Time\"] = pd.to_datetime(bri_19[\"Date/Time\"])\n",
    "bri_19[\"Date/Time\"] = bri_19[\"Date/Time\"].dt.date\n",
    "\n",
    "bri_18[\"Date/Time\"] = pd.to_datetime(bri_18[\"Date/Time\"])\n",
    "bri_18[\"Date/Time\"] = bri_18[\"Date/Time\"].dt.date\n",
    "\n",
    "bri_17[\"Date/Time\"] = pd.to_datetime(bri_17[\"Date/Time\"])\n",
    "bri_17[\"Date/Time\"] = bri_17[\"Date/Time\"].dt.date\n",
    "\n",
    "gol_19[\"Date/Time\"] = pd.to_datetime(gol_19[\"Date/Time\"])\n",
    "gol_19[\"Date/Time\"] = gol_19[\"Date/Time\"].dt.date\n",
    "\n",
    "gol_18[\"Date/Time\"] = pd.to_datetime(gol_18[\"Date/Time\"])\n",
    "gol_18[\"Date/Time\"] = gol_18[\"Date/Time\"].dt.date\n",
    "\n",
    "gol_17[\"Date/Time\"] = pd.to_datetime(gol_17[\"Date/Time\"])\n",
    "gol_17[\"Date/Time\"] = gol_17[\"Date/Time\"].dt.date\n",
    "\n",
    "tow_19[\"Date/Time\"] = pd.to_datetime(tow_19[\"Date/Time\"])\n",
    "tow_19[\"Date/Time\"] = tow_19[\"Date/Time\"].dt.date\n",
    "\n",
    "tow_18[\"Date/Time\"] = pd.to_datetime(tow_18[\"Date/Time\"])\n",
    "tow_18[\"Date/Time\"] = tow_18[\"Date/Time\"].dt.date\n",
    "\n",
    "tow_17[\"Date/Time\"] = pd.to_datetime(tow_17[\"Date/Time\"])\n",
    "tow_17[\"Date/Time\"] = tow_17[\"Date/Time\"].dt.date\n",
    "\n",
    "# Dics with new columns info\n",
    "location_bri = {\"Location\": \"Brisbane\", \"Longitude\": \"153.021072\", \"Latitude\": \"-27.470125\"}\n",
    "location_gol = {\"Location\": \"Gold Coast\", \"Longitude\": \"153.399994\", \"Latitude\": \"-28.016666\"}\n",
    "location_tow = {\"Location\": \"Townsville\", \"Longitude\": \"146.816956\", \"Latitude\": \"-19.258965\"}\n",
    "\n",
    "# Create one unique DataFrame for each location\n",
    "bri = pd.concat(file_list[0])\n",
    "gol = pd.concat(file_list[1])\n",
    "tow = pd.concat(file_list[2])\n",
    "\n",
    "# Unify date types before concat\n",
    "pd.to_datetime(bri[\"Date/Time\"])\n",
    "pd.to_datetime(gol[\"Date/Time\"])\n",
    "pd.to_datetime(tow[\"Date/Time\"])\n",
    "\n",
    "# Add location column to each DataFrame.\n",
    "    # 1. Brisbane\n",
    "bri[\"Location\"] = location_bri[\"Location\"]\n",
    "bri[\"Longitude\"] = location_bri[\"Longitude\"]\n",
    "bri[\"Latitude\"] = location_bri[\"Latitude\"]\n",
    "\n",
    "    # 2. Gold Coast\n",
    "gol[\"Location\"] = location_gol[\"Location\"]\n",
    "gol[\"Longitude\"] = location_gol[\"Longitude\"]\n",
    "gol[\"Latitude\"] = location_gol[\"Latitude\"]\n",
    "\n",
    "    # 3. Townville\n",
    "tow[\"Location\"] = location_tow[\"Location\"]\n",
    "tow[\"Longitude\"] = location_tow[\"Longitude\"]\n",
    "tow[\"Latitude\"] = location_tow[\"Latitude\"]\n",
    "\n",
    "# Create a DataFrame combining all locations\n",
    "aus = pd.concat([bri, gol, tow]).reset_index(drop=True)\n",
    "\n",
    "# We consider -99.0 as a NULL value\n",
    "aus = aus.replace(to_replace = -99.9, \n",
    "                 value = \"NULL\")"
   ]
  },
  {
   "cell_type": "markdown",
   "metadata": {},
   "source": [
    "## Export the file as .csv"
   ]
  },
  {
   "cell_type": "code",
   "execution_count": 192,
   "metadata": {},
   "outputs": [],
   "source": [
    "# Export it as .csv\n",
    "aus.to_csv(\"../project-3/data/waves_queensland.csv\", sep=\",\")"
   ]
  },
  {
   "cell_type": "code",
   "execution_count": 193,
   "metadata": {},
   "outputs": [],
   "source": [
    "# Export as separate files\n",
    "bri.to_csv(\"../project-3/data/brisbane.csv\", sep=\",\")\n",
    "gol.to_csv(\"../project-3/data/gold-coast.csv\", sep=\",\")\n",
    "tow.to_csv(\"../project-3/data/townville.csv\", sep=\",\")"
   ]
  }
 ],
 "metadata": {
  "kernelspec": {
   "display_name": "Python 3",
   "language": "python",
   "name": "python3"
  },
  "language_info": {
   "codemirror_mode": {
    "name": "ipython",
    "version": 3
   },
   "file_extension": ".py",
   "mimetype": "text/x-python",
   "name": "python",
   "nbconvert_exporter": "python",
   "pygments_lexer": "ipython3",
   "version": "3.8.2"
  }
 },
 "nbformat": 4,
 "nbformat_minor": 4
}
